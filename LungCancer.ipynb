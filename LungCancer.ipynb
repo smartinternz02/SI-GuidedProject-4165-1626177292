{
 "cells": [
  {
   "cell_type": "code",
   "execution_count": 1,
   "metadata": {},
   "outputs": [],
   "source": [
    "import keras"
   ]
  },
  {
   "cell_type": "code",
   "execution_count": 2,
   "metadata": {},
   "outputs": [],
   "source": [
    "from keras.preprocessing.image import ImageDataGenerator\n",
    "train_datagen = ImageDataGenerator(rescale = 1./255,shear_range = 0.2,zoom_range = 0.2,horizontal_flip = True)\n",
    "test_datagen = ImageDataGenerator(rescale = 1./255)"
   ]
  },
  {
   "cell_type": "code",
   "execution_count": 3,
   "metadata": {},
   "outputs": [
    {
     "name": "stdout",
     "output_type": "stream",
     "text": [
      "Found 102 images belonging to 2 classes.\n",
      "Found 40 images belonging to 2 classes.\n"
     ]
    }
   ],
   "source": [
    "# applying Image data generator functionality to train and test set\n",
    "x_train = train_datagen.flow_from_directory(\n",
    "    r'C:\\Users\\DELL\\Desktop\\mini po\\final\\trainset'\n",
    "    ,target_size = (64,64),batch_size = 32 ,\n",
    "    class_mode = 'binary',color_mode=\"grayscale\")\n",
    "x_test = test_datagen.flow_from_directory(\n",
    "    r'C:\\Users\\DELL\\Desktop\\mini po\\final\\testset',\n",
    "    target_size = (64,64),batch_size = 32 , \n",
    "    class_mode = 'binary',color_mode=\"grayscale\")"
   ]
  },
  {
   "cell_type": "code",
   "execution_count": 4,
   "metadata": {},
   "outputs": [],
   "source": [
    "from tensorflow.keras.models import Sequential\n",
    "from tensorflow.keras.layers import Dense\n",
    "from tensorflow.keras.layers import Convolution2D\n",
    "from tensorflow.keras.layers import MaxPooling2D\n",
    "from tensorflow.keras.layers import Flatten\n"
   ]
  },
  {
   "cell_type": "code",
   "execution_count": 5,
   "metadata": {},
   "outputs": [],
   "source": [
    "#from tensorflow.keras.models import Sequential\n",
    "model = Sequential()"
   ]
  },
  {
   "cell_type": "code",
   "execution_count": 6,
   "metadata": {},
   "outputs": [],
   "source": [
    "model.add(Convolution2D(32,(3,3),input_shape=(64,64,1),activation='relu'))"
   ]
  },
  {
   "cell_type": "code",
   "execution_count": 7,
   "metadata": {},
   "outputs": [],
   "source": [
    "model.add(MaxPooling2D(pool_size = (2,2)))"
   ]
  },
  {
   "cell_type": "code",
   "execution_count": 8,
   "metadata": {},
   "outputs": [],
   "source": [
    "model.add(Flatten())"
   ]
  },
  {
   "cell_type": "code",
   "execution_count": 9,
   "metadata": {},
   "outputs": [],
   "source": [
    "model.add(Dense(kernel_initializer=\"uniform\",activation = \"relu\",units=300))\n"
   ]
  },
  {
   "cell_type": "code",
   "execution_count": 10,
   "metadata": {},
   "outputs": [],
   "source": [
    "model.add(Dense(kernel_initializer=\"uniform\",activation = \"relu\",units=100))\n"
   ]
  },
  {
   "cell_type": "code",
   "execution_count": 11,
   "metadata": {},
   "outputs": [],
   "source": [
    "model.add(Dense(kernel_initializer=\"uniform\",activation = \"relu\",units=60))"
   ]
  },
  {
   "cell_type": "code",
   "execution_count": 12,
   "metadata": {},
   "outputs": [],
   "source": [
    "model.add(Dense(units = 1,kernel_initializer = \"random_uniform\",activation = \"sigmoid\"))"
   ]
  },
  {
   "cell_type": "code",
   "execution_count": 13,
   "metadata": {},
   "outputs": [],
   "source": [
    "model.compile(loss = \"binary_crossentropy\",optimizer = \"adam\",metrics = [\"accuracy\"])"
   ]
  },
  {
   "cell_type": "code",
   "execution_count": 14,
   "metadata": {},
   "outputs": [
    {
     "name": "stderr",
     "output_type": "stream",
     "text": [
      "F:\\anaconda.com\\lib\\site-packages\\keras\\engine\\training.py:1972: UserWarning: `Model.fit_generator` is deprecated and will be removed in a future version. Please use `Model.fit`, which supports generators.\n",
      "  warnings.warn('`Model.fit_generator` is deprecated and '\n"
     ]
    },
    {
     "name": "stdout",
     "output_type": "stream",
     "text": [
      "Epoch 1/100\n",
      "4/4 [==============================] - 11s 3s/step - loss: 0.6915 - accuracy: 0.5196 - val_loss: 0.6839 - val_accuracy: 0.5000\n",
      "Epoch 2/100\n",
      "4/4 [==============================] - 2s 376ms/step - loss: 0.6816 - accuracy: 0.6078 - val_loss: 0.6842 - val_accuracy: 0.6000\n",
      "Epoch 3/100\n",
      "4/4 [==============================] - 2s 471ms/step - loss: 0.6684 - accuracy: 0.6275 - val_loss: 0.6530 - val_accuracy: 0.6250\n",
      "Epoch 4/100\n",
      "4/4 [==============================] - 2s 595ms/step - loss: 0.6403 - accuracy: 0.6078 - val_loss: 0.6249 - val_accuracy: 0.6500\n",
      "Epoch 5/100\n",
      "4/4 [==============================] - 2s 566ms/step - loss: 0.6238 - accuracy: 0.6176 - val_loss: 0.5704 - val_accuracy: 0.7000\n",
      "Epoch 6/100\n",
      "4/4 [==============================] - 2s 587ms/step - loss: 0.5909 - accuracy: 0.6765 - val_loss: 0.5417 - val_accuracy: 0.6750\n",
      "Epoch 7/100\n",
      "4/4 [==============================] - 2s 460ms/step - loss: 0.5598 - accuracy: 0.7157 - val_loss: 0.5198 - val_accuracy: 0.7750\n",
      "Epoch 8/100\n",
      "4/4 [==============================] - 2s 610ms/step - loss: 0.5263 - accuracy: 0.7157 - val_loss: 0.5011 - val_accuracy: 0.7000\n",
      "Epoch 9/100\n",
      "4/4 [==============================] - 2s 718ms/step - loss: 0.4955 - accuracy: 0.7843 - val_loss: 0.4649 - val_accuracy: 0.7250\n",
      "Epoch 10/100\n",
      "4/4 [==============================] - 2s 465ms/step - loss: 0.5982 - accuracy: 0.6961 - val_loss: 0.4983 - val_accuracy: 0.8250\n",
      "Epoch 11/100\n",
      "4/4 [==============================] - 2s 566ms/step - loss: 0.5779 - accuracy: 0.7745 - val_loss: 0.4247 - val_accuracy: 0.8000\n",
      "Epoch 12/100\n",
      "4/4 [==============================] - 2s 492ms/step - loss: 0.4794 - accuracy: 0.7353 - val_loss: 0.4093 - val_accuracy: 0.7250\n",
      "Epoch 13/100\n",
      "4/4 [==============================] - 2s 391ms/step - loss: 0.4232 - accuracy: 0.8235 - val_loss: 0.5835 - val_accuracy: 0.7250\n",
      "Epoch 14/100\n",
      "4/4 [==============================] - 2s 580ms/step - loss: 0.5065 - accuracy: 0.7647 - val_loss: 0.3664 - val_accuracy: 0.8750\n",
      "Epoch 15/100\n",
      "4/4 [==============================] - 2s 442ms/step - loss: 0.4703 - accuracy: 0.7745 - val_loss: 0.3662 - val_accuracy: 0.8750\n",
      "Epoch 16/100\n",
      "4/4 [==============================] - 2s 617ms/step - loss: 0.4272 - accuracy: 0.8431 - val_loss: 0.4782 - val_accuracy: 0.8000\n",
      "Epoch 17/100\n",
      "4/4 [==============================] - 2s 578ms/step - loss: 0.4083 - accuracy: 0.8039 - val_loss: 0.2748 - val_accuracy: 0.9250\n",
      "Epoch 18/100\n",
      "4/4 [==============================] - 2s 571ms/step - loss: 0.4642 - accuracy: 0.8039 - val_loss: 0.4530 - val_accuracy: 0.8250\n",
      "Epoch 19/100\n",
      "4/4 [==============================] - 2s 460ms/step - loss: 0.3368 - accuracy: 0.8627 - val_loss: 0.2669 - val_accuracy: 0.9250\n",
      "Epoch 20/100\n",
      "4/4 [==============================] - 2s 588ms/step - loss: 0.4170 - accuracy: 0.8235 - val_loss: 0.4418 - val_accuracy: 0.8000\n",
      "Epoch 21/100\n",
      "4/4 [==============================] - 2s 496ms/step - loss: 0.3353 - accuracy: 0.8725 - val_loss: 0.2663 - val_accuracy: 0.9000\n",
      "Epoch 22/100\n",
      "4/4 [==============================] - 2s 459ms/step - loss: 0.3297 - accuracy: 0.8529 - val_loss: 0.3242 - val_accuracy: 0.9250\n",
      "Epoch 23/100\n",
      "4/4 [==============================] - 2s 456ms/step - loss: 0.2941 - accuracy: 0.8725 - val_loss: 0.2518 - val_accuracy: 0.9250\n",
      "Epoch 24/100\n",
      "4/4 [==============================] - 2s 541ms/step - loss: 0.2936 - accuracy: 0.8725 - val_loss: 0.2350 - val_accuracy: 0.9500\n",
      "Epoch 25/100\n",
      "4/4 [==============================] - 2s 498ms/step - loss: 0.2648 - accuracy: 0.8824 - val_loss: 0.2371 - val_accuracy: 0.9500\n",
      "Epoch 26/100\n",
      "4/4 [==============================] - 2s 453ms/step - loss: 0.2541 - accuracy: 0.9118 - val_loss: 0.4136 - val_accuracy: 0.8750\n",
      "Epoch 27/100\n",
      "4/4 [==============================] - 2s 515ms/step - loss: 0.2144 - accuracy: 0.9020 - val_loss: 0.1949 - val_accuracy: 0.9750\n",
      "Epoch 28/100\n",
      "4/4 [==============================] - 2s 542ms/step - loss: 0.1640 - accuracy: 0.9510 - val_loss: 0.2319 - val_accuracy: 0.9250\n",
      "Epoch 29/100\n",
      "4/4 [==============================] - 2s 568ms/step - loss: 0.1701 - accuracy: 0.9314 - val_loss: 0.2736 - val_accuracy: 0.9000\n",
      "Epoch 30/100\n",
      "4/4 [==============================] - 2s 452ms/step - loss: 0.1413 - accuracy: 0.9510 - val_loss: 0.1456 - val_accuracy: 0.9750\n",
      "Epoch 31/100\n",
      "4/4 [==============================] - 2s 569ms/step - loss: 0.2421 - accuracy: 0.9216 - val_loss: 0.2419 - val_accuracy: 0.9250\n",
      "Epoch 32/100\n",
      "4/4 [==============================] - 2s 494ms/step - loss: 0.1474 - accuracy: 0.9608 - val_loss: 0.1103 - val_accuracy: 0.9750\n",
      "Epoch 33/100\n",
      "4/4 [==============================] - 2s 652ms/step - loss: 0.1483 - accuracy: 0.9510 - val_loss: 0.1957 - val_accuracy: 0.9250\n",
      "Epoch 34/100\n",
      "4/4 [==============================] - 2s 524ms/step - loss: 0.1756 - accuracy: 0.9412 - val_loss: 0.1211 - val_accuracy: 0.9500\n",
      "Epoch 35/100\n",
      "4/4 [==============================] - 2s 605ms/step - loss: 0.1818 - accuracy: 0.9216 - val_loss: 0.4201 - val_accuracy: 0.8500\n",
      "Epoch 36/100\n",
      "4/4 [==============================] - 2s 501ms/step - loss: 0.1469 - accuracy: 0.9216 - val_loss: 0.0847 - val_accuracy: 0.9500\n",
      "Epoch 37/100\n",
      "4/4 [==============================] - 2s 528ms/step - loss: 0.2797 - accuracy: 0.8627 - val_loss: 0.3159 - val_accuracy: 0.8500\n",
      "Epoch 38/100\n",
      "4/4 [==============================] - 2s 486ms/step - loss: 0.1281 - accuracy: 0.9510 - val_loss: 0.0222 - val_accuracy: 1.0000\n",
      "Epoch 39/100\n",
      "4/4 [==============================] - 2s 440ms/step - loss: 0.1811 - accuracy: 0.9510 - val_loss: 0.0512 - val_accuracy: 0.9750\n",
      "Epoch 40/100\n",
      "4/4 [==============================] - 2s 452ms/step - loss: 0.1748 - accuracy: 0.9510 - val_loss: 0.1851 - val_accuracy: 0.9250\n",
      "Epoch 41/100\n",
      "4/4 [==============================] - 2s 461ms/step - loss: 0.0942 - accuracy: 0.9510 - val_loss: 0.0699 - val_accuracy: 0.9750\n",
      "Epoch 42/100\n",
      "4/4 [==============================] - 2s 454ms/step - loss: 0.2773 - accuracy: 0.9118 - val_loss: 0.0610 - val_accuracy: 0.9750\n",
      "Epoch 43/100\n",
      "4/4 [==============================] - 2s 445ms/step - loss: 0.1192 - accuracy: 0.9510 - val_loss: 0.0994 - val_accuracy: 0.9750\n",
      "Epoch 44/100\n",
      "4/4 [==============================] - 2s 474ms/step - loss: 0.0682 - accuracy: 0.9706 - val_loss: 0.0335 - val_accuracy: 1.0000\n",
      "Epoch 45/100\n",
      "4/4 [==============================] - 2s 449ms/step - loss: 0.0932 - accuracy: 0.9608 - val_loss: 0.0840 - val_accuracy: 0.9750\n",
      "Epoch 46/100\n",
      "4/4 [==============================] - 2s 535ms/step - loss: 0.0495 - accuracy: 1.0000 - val_loss: 0.0283 - val_accuracy: 1.0000\n",
      "Epoch 47/100\n",
      "4/4 [==============================] - 2s 446ms/step - loss: 0.1070 - accuracy: 0.9706 - val_loss: 0.0144 - val_accuracy: 1.0000\n",
      "Epoch 48/100\n",
      "4/4 [==============================] - 2s 463ms/step - loss: 0.1198 - accuracy: 0.9608 - val_loss: 0.0453 - val_accuracy: 0.9750\n",
      "Epoch 49/100\n",
      "4/4 [==============================] - 2s 467ms/step - loss: 0.1308 - accuracy: 0.9510 - val_loss: 0.0188 - val_accuracy: 1.0000\n",
      "Epoch 50/100\n",
      "4/4 [==============================] - 2s 428ms/step - loss: 0.0813 - accuracy: 0.9706 - val_loss: 0.2813 - val_accuracy: 0.8750\n",
      "Epoch 51/100\n",
      "4/4 [==============================] - 2s 438ms/step - loss: 0.1067 - accuracy: 0.9706 - val_loss: 0.0197 - val_accuracy: 1.0000\n",
      "Epoch 52/100\n",
      "4/4 [==============================] - 2s 465ms/step - loss: 0.1322 - accuracy: 0.9608 - val_loss: 0.0198 - val_accuracy: 1.0000\n",
      "Epoch 53/100\n",
      "4/4 [==============================] - 2s 428ms/step - loss: 0.1356 - accuracy: 0.9510 - val_loss: 0.0986 - val_accuracy: 0.9250\n",
      "Epoch 54/100\n",
      "4/4 [==============================] - 2s 418ms/step - loss: 0.0915 - accuracy: 0.9706 - val_loss: 0.0279 - val_accuracy: 1.0000\n",
      "Epoch 55/100\n",
      "4/4 [==============================] - 2s 527ms/step - loss: 0.0801 - accuracy: 0.9706 - val_loss: 0.0165 - val_accuracy: 1.0000\n",
      "Epoch 56/100\n",
      "4/4 [==============================] - 2s 428ms/step - loss: 0.0665 - accuracy: 0.9608 - val_loss: 0.1369 - val_accuracy: 0.9500\n",
      "Epoch 57/100\n",
      "4/4 [==============================] - 2s 430ms/step - loss: 0.0795 - accuracy: 0.9706 - val_loss: 0.3772 - val_accuracy: 0.9000\n",
      "Epoch 58/100\n",
      "4/4 [==============================] - 2s 437ms/step - loss: 0.0680 - accuracy: 0.9608 - val_loss: 0.0049 - val_accuracy: 1.0000\n"
     ]
    },
    {
     "name": "stdout",
     "output_type": "stream",
     "text": [
      "Epoch 59/100\n",
      "4/4 [==============================] - 2s 462ms/step - loss: 0.0525 - accuracy: 0.9902 - val_loss: 0.0027 - val_accuracy: 1.0000\n",
      "Epoch 60/100\n",
      "4/4 [==============================] - 2s 522ms/step - loss: 0.1509 - accuracy: 0.9510 - val_loss: 0.1927 - val_accuracy: 0.9000\n",
      "Epoch 61/100\n",
      "4/4 [==============================] - 2s 526ms/step - loss: 0.0858 - accuracy: 0.9706 - val_loss: 0.0512 - val_accuracy: 0.9750\n",
      "Epoch 62/100\n",
      "4/4 [==============================] - 2s 476ms/step - loss: 0.1046 - accuracy: 0.9608 - val_loss: 0.0406 - val_accuracy: 1.0000\n",
      "Epoch 63/100\n",
      "4/4 [==============================] - 2s 464ms/step - loss: 0.1823 - accuracy: 0.9314 - val_loss: 0.0228 - val_accuracy: 1.0000\n",
      "Epoch 64/100\n",
      "4/4 [==============================] - 2s 441ms/step - loss: 0.0751 - accuracy: 0.9510 - val_loss: 0.0292 - val_accuracy: 1.0000\n",
      "Epoch 65/100\n",
      "4/4 [==============================] - 2s 423ms/step - loss: 0.0977 - accuracy: 0.9608 - val_loss: 0.0424 - val_accuracy: 1.0000\n",
      "Epoch 66/100\n",
      "4/4 [==============================] - 2s 523ms/step - loss: 0.0656 - accuracy: 0.9608 - val_loss: 0.0063 - val_accuracy: 1.0000\n",
      "Epoch 67/100\n",
      "4/4 [==============================] - 2s 442ms/step - loss: 0.1102 - accuracy: 0.9608 - val_loss: 0.2508 - val_accuracy: 0.9000\n",
      "Epoch 68/100\n",
      "4/4 [==============================] - 2s 463ms/step - loss: 0.1873 - accuracy: 0.9216 - val_loss: 0.0182 - val_accuracy: 1.0000\n",
      "Epoch 69/100\n",
      "4/4 [==============================] - 2s 528ms/step - loss: 0.1415 - accuracy: 0.9510 - val_loss: 0.0336 - val_accuracy: 1.0000\n",
      "Epoch 70/100\n",
      "4/4 [==============================] - 2s 429ms/step - loss: 0.0857 - accuracy: 0.9804 - val_loss: 0.0414 - val_accuracy: 0.9750\n",
      "Epoch 71/100\n",
      "4/4 [==============================] - 2s 533ms/step - loss: 0.0757 - accuracy: 0.9804 - val_loss: 0.1104 - val_accuracy: 0.9500\n",
      "Epoch 72/100\n",
      "4/4 [==============================] - 2s 436ms/step - loss: 0.0756 - accuracy: 0.9804 - val_loss: 0.0120 - val_accuracy: 1.0000\n",
      "Epoch 73/100\n",
      "4/4 [==============================] - 2s 435ms/step - loss: 0.0396 - accuracy: 0.9804 - val_loss: 0.0061 - val_accuracy: 1.0000\n",
      "Epoch 74/100\n",
      "4/4 [==============================] - 2s 436ms/step - loss: 0.0375 - accuracy: 0.9902 - val_loss: 0.0084 - val_accuracy: 1.0000\n",
      "Epoch 75/100\n",
      "4/4 [==============================] - 2s 465ms/step - loss: 0.0264 - accuracy: 0.9902 - val_loss: 0.0048 - val_accuracy: 1.0000\n",
      "Epoch 76/100\n",
      "4/4 [==============================] - 2s 472ms/step - loss: 0.0384 - accuracy: 0.9706 - val_loss: 0.1423 - val_accuracy: 0.9000\n",
      "Epoch 77/100\n",
      "4/4 [==============================] - 2s 451ms/step - loss: 0.1054 - accuracy: 0.9706 - val_loss: 0.0018 - val_accuracy: 1.0000\n",
      "Epoch 78/100\n",
      "4/4 [==============================] - 2s 533ms/step - loss: 0.0452 - accuracy: 0.9804 - val_loss: 0.0017 - val_accuracy: 1.0000\n",
      "Epoch 79/100\n",
      "4/4 [==============================] - 2s 520ms/step - loss: 0.0500 - accuracy: 0.9902 - val_loss: 0.0023 - val_accuracy: 1.0000\n",
      "Epoch 80/100\n",
      "4/4 [==============================] - 2s 445ms/step - loss: 0.0361 - accuracy: 0.9902 - val_loss: 0.0199 - val_accuracy: 1.0000\n",
      "Epoch 81/100\n",
      "4/4 [==============================] - 2s 440ms/step - loss: 0.0418 - accuracy: 0.9902 - val_loss: 0.0126 - val_accuracy: 1.0000\n",
      "Epoch 82/100\n",
      "4/4 [==============================] - 2s 457ms/step - loss: 0.0385 - accuracy: 0.9902 - val_loss: 0.0020 - val_accuracy: 1.0000\n",
      "Epoch 83/100\n",
      "4/4 [==============================] - 2s 456ms/step - loss: 0.0131 - accuracy: 0.9902 - val_loss: 0.0016 - val_accuracy: 1.0000\n",
      "Epoch 84/100\n",
      "4/4 [==============================] - 2s 522ms/step - loss: 0.0133 - accuracy: 1.0000 - val_loss: 0.0015 - val_accuracy: 1.0000\n",
      "Epoch 85/100\n",
      "4/4 [==============================] - 2s 545ms/step - loss: 0.0269 - accuracy: 0.9902 - val_loss: 0.0018 - val_accuracy: 1.0000\n",
      "Epoch 86/100\n",
      "4/4 [==============================] - 2s 426ms/step - loss: 0.0039 - accuracy: 1.0000 - val_loss: 0.0020 - val_accuracy: 1.0000\n",
      "Epoch 87/100\n",
      "4/4 [==============================] - 2s 551ms/step - loss: 0.0133 - accuracy: 0.9902 - val_loss: 0.0026 - val_accuracy: 1.0000\n",
      "Epoch 88/100\n",
      "4/4 [==============================] - 2s 430ms/step - loss: 0.0257 - accuracy: 0.9902 - val_loss: 0.0015 - val_accuracy: 1.0000\n",
      "Epoch 89/100\n",
      "4/4 [==============================] - 2s 445ms/step - loss: 0.0060 - accuracy: 1.0000 - val_loss: 0.0013 - val_accuracy: 1.0000\n",
      "Epoch 90/100\n",
      "4/4 [==============================] - 2s 482ms/step - loss: 0.0071 - accuracy: 1.0000 - val_loss: 0.0014 - val_accuracy: 1.0000\n",
      "Epoch 91/100\n",
      "4/4 [==============================] - 2s 430ms/step - loss: 0.0070 - accuracy: 1.0000 - val_loss: 0.0021 - val_accuracy: 1.0000\n",
      "Epoch 92/100\n",
      "4/4 [==============================] - 2s 428ms/step - loss: 0.0047 - accuracy: 1.0000 - val_loss: 0.0027 - val_accuracy: 1.0000\n",
      "Epoch 93/100\n",
      "4/4 [==============================] - 2s 422ms/step - loss: 0.0064 - accuracy: 1.0000 - val_loss: 0.0018 - val_accuracy: 1.0000\n",
      "Epoch 94/100\n",
      "4/4 [==============================] - 2s 520ms/step - loss: 0.0394 - accuracy: 0.9902 - val_loss: 0.0010 - val_accuracy: 1.0000\n",
      "Epoch 95/100\n",
      "4/4 [==============================] - 2s 509ms/step - loss: 0.0023 - accuracy: 1.0000 - val_loss: 0.0025 - val_accuracy: 1.0000\n",
      "Epoch 96/100\n",
      "4/4 [==============================] - 2s 514ms/step - loss: 0.0027 - accuracy: 1.0000 - val_loss: 0.0032 - val_accuracy: 1.0000\n",
      "Epoch 97/100\n",
      "4/4 [==============================] - 2s 431ms/step - loss: 0.0128 - accuracy: 0.9902 - val_loss: 3.2288e-04 - val_accuracy: 1.0000\n",
      "Epoch 98/100\n",
      "4/4 [==============================] - 2s 447ms/step - loss: 0.0070 - accuracy: 1.0000 - val_loss: 2.8705e-04 - val_accuracy: 1.0000\n",
      "Epoch 99/100\n",
      "4/4 [==============================] - 2s 556ms/step - loss: 0.0222 - accuracy: 0.9804 - val_loss: 0.0033 - val_accuracy: 1.0000\n",
      "Epoch 100/100\n",
      "4/4 [==============================] - 2s 440ms/step - loss: 0.0712 - accuracy: 0.9706 - val_loss: 0.0021 - val_accuracy: 1.0000\n"
     ]
    },
    {
     "data": {
      "text/plain": [
       "<keras.callbacks.History at 0x26e6ba9beb0>"
      ]
     },
     "execution_count": 14,
     "metadata": {},
     "output_type": "execute_result"
    }
   ],
   "source": [
    "\n",
    "model.fit_generator(x_train , steps_per_epoch=4 , epochs=100 , validation_data = x_test , validation_steps = 2)"
   ]
  },
  {
   "cell_type": "code",
   "execution_count": 15,
   "metadata": {},
   "outputs": [],
   "source": [
    "model.save(\"LungCancer.h5\")"
   ]
  },
  {
   "cell_type": "code",
   "execution_count": null,
   "metadata": {},
   "outputs": [],
   "source": []
  },
  {
   "cell_type": "code",
   "execution_count": null,
   "metadata": {},
   "outputs": [],
   "source": []
  }
 ],
 "metadata": {
  "kernelspec": {
   "display_name": "Python 3",
   "language": "python",
   "name": "python3"
  },
  "language_info": {
   "codemirror_mode": {
    "name": "ipython",
    "version": 3
   },
   "file_extension": ".py",
   "mimetype": "text/x-python",
   "name": "python",
   "nbconvert_exporter": "python",
   "pygments_lexer": "ipython3",
   "version": "3.8.5"
  }
 },
 "nbformat": 4,
 "nbformat_minor": 4
}
